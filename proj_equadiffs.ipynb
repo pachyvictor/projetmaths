{
 "metadata": {
  "language_info": {
   "codemirror_mode": {
    "name": "ipython",
    "version": 3
   },
   "file_extension": ".py",
   "mimetype": "text/x-python",
   "name": "python",
   "nbconvert_exporter": "python",
   "pygments_lexer": "ipython3",
   "version": 3
  },
  "orig_nbformat": 2
 },
 "nbformat": 4,
 "nbformat_minor": 2,
 "cells": [
  {
   "cell_type": "code",
   "execution_count": null,
   "metadata": {},
   "outputs": [],
   "source": [
    "import numpy as np\n",
    "\n",
    "alpha = 1\n",
    "beta = 1\n",
    "gamma = 1\n",
    "delta = 1\n",
    "\n",
    "import matplotlib.pyplot as plt \n",
    "\n",
    "import scipy.integrate"
   ]
  },
  {
   "source": [
    "Question 1 :\n",
    "\n",
    "\n",
    "Oui \n",
    "\n"
   ],
   "cell_type": "markdown",
   "metadata": {}
  },
  {
   "cell_type": "code",
   "execution_count": null,
   "metadata": {},
   "outputs": [],
   "source": [
    "def syst1 (x1, x2):\n",
    "    return [x1*(alpha-beta*x2), -x2*(gamma-delta*x1)]\n",
    "\n",
    "T = np.linspace(0,1000,1000)\n",
    "\n",
    "X = sci\n",
    "\n",
    "\n"
   ]
  }
 ]
}