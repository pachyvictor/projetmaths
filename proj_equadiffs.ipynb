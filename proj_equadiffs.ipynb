{
 "metadata": {
  "language_info": {
   "codemirror_mode": {
    "name": "ipython",
    "version": 3
   },
   "file_extension": ".py",
   "mimetype": "text/x-python",
   "name": "python",
   "nbconvert_exporter": "python",
   "pygments_lexer": "ipython3",
   "version": 3
  },
  "orig_nbformat": 2
 },
 "nbformat": 4,
 "nbformat_minor": 2,
 "cells": [
  {
   "cell_type": "code",
   "execution_count": null,
   "metadata": {},
   "outputs": [],
   "source": [
    "import numpy as np\n",
    "\n",
    "alpha = 1\n",
    "beta = 1\n",
    "gamma = 1\n",
    "delta = 1\n",
    "\n",
    "import matplotlib.pyplot as plt \n",
    "\n",
    "import scipy.integrate"
   ]
  },
  {
   "source": [
    "$\\underline{\\textbf{Question 1}} : $"
   ],
   "cell_type": "markdown",
   "metadata": {}
  },
  {
   "source": [
    "On considère le système suivant (modèle proie/prédateur) :\n",
    "$$\n",
    "\\left\\{\\begin{matrix}\n",
    "\\dot{x_1} = x_1(\\alpha - \\beta x_2)\n",
    "\\\\ \\dot{x_2} = -x_2(\\gamma - \\delta x_1)\n",
    "\\end{matrix}\\right.\n",
    "$$\n",
    "\n",
    "Que l'on réécrit :\n",
    "$$\n",
    "\\dot{x} = f(x) = \\begin{pmatrix}x_1(\\alpha - \\beta x_2)\\\\ -x_2(\\gamma - \\delta x_1)\\end{pmatrix} = \\begin{pmatrix}f_1(x)\\\\f_2(x) \\end{pmatrix}\n",
    "$$\n",
    "\n",
    "On peut interpréter les différents termes de l'équation :\n",
    "- $\\alpha$ est le taux de reproduction des proies\n",
    "- $\\beta$ quantifie le taux de mortalité des proies dû aux prédateurs\n",
    "- $\\gamma$ est le taux de mortalité des prédateurs\n",
    "- $\\delta$ est le taux de reproduction des prédateurs en fonction des proies mangées\n",
    "\n",
    "Quant aux points d'équilibre :\n",
    "On vérifie immédiatement que $\\begin{pmatrix}0\\\\0 \\end{pmatrix}$ est point d'équilibre. Puis $f(x) = 0$ avec $x \\neq 0$ implique immédiatement que $\\bar{x} = \\begin{pmatrix}\\frac{\\gamma}{\\delta}\\\\ \\frac{\\alpha}{\\beta}\\end{pmatrix}$. Alors on vérifie bien directement que $\\bar{x}$ est point d'équilibre et $\\bar{x} \\in \\mathbb{R}_{>0} \\times \\mathbb{R}_{>0}$.\n",
    "\n",
    "Nous allons étudier le linéarisé tangent pour voir si on peut conclure quelque chose sur la stabilité des points d'équilibre. On a :\n",
    "$J_f(x) = \\begin{pmatrix}\\alpha - \\beta x_2 & -\\beta x_1\\\\ \\delta x_2 & \\gamma - \\delta x_1\\end{pmatrix}$, donc $J_f(0) = \\begin{pmatrix}\\alpha & 0 \\\\ 0 & \\gamma \\end{pmatrix}$ et $J_f(\\bar{x}) = \\begin{pmatrix}0 & -\\beta \\frac{\\gamma}{\\delta} \\\\ \\delta \\frac{\\alpha}{\\beta} & 0 \\end{pmatrix}$.\n",
    "\n",
    "Il est alors clair que le point $0$ n'est pas stable car les valeurs propres de $J_f(0)$ sont strictement positives ! Quant au point $\\bar{x}$, les valeurs propres de $J_f(\\bar{x})$ sont imaginaires pures car son polynôme caractéristique est $X^2 + \\alpha \\gamma$. On ne peut donc <ins>rien conclure</ins> sur la stabilité du point $\\bar{x}$ (la partie réelle des valeurs propres est nulle, il faudrait qu'elle soit strictement positive ou strictement négative si on voulait conclure quelque chose)."
   ],
   "cell_type": "markdown",
   "metadata": {}
  },
  {
   "source": [
    "$\\underline{\\textbf{Question 2}} : $"
   ],
   "cell_type": "markdown",
   "metadata": {}
  },
  {
   "cell_type": "code",
   "execution_count": null,
   "metadata": {},
   "outputs": [],
   "source": [
    "def syst1 (x1, x2):\n",
    "    return [x1*(alpha-beta*x2), -x2*(gamma-delta*x1)]\n",
    "\n",
    "T = np.linspace(0,1000,1000)\n",
    "\n",
    "X = sci\n",
    "\n",
    "\n"
   ]
  },
  {
   "source": [
    "$\\underline{\\textbf{Question 3}} : $"
   ],
   "cell_type": "markdown",
   "metadata": {}
  },
  {
   "source": [
    "Il est clair déjà que $f$ est de classe $C^1$, car sa jacobienne est continue (voir Q1 pour son expression).  Donc le théorème de Cauchy-Lipschitz assure l'existence et l'unicité d'une solution maximale au système $\\left\\{\\begin{matrix}\\dot{x} = f(x)\\\\ x(t_0) = x_0\\end{matrix}\\right.$ avec $x_0 \\in \\mathbb{R}_{>0} \\times \\mathbb{R}_{>0}$.\n",
    "\n",
    "Supposons par l'absurde qu'il existe $t_1$ tel que $x_1(t_1) = 0$ par exemple (le cas $x_2(t_1) = 0$ est exactement similaire, il suffit de refaire le raisonnement ci-dessous).\n",
    "Alors $x$ est solution du problème de Cauchy : $\\left\\{\\begin{matrix}\\dot{x} = f(x)\\\\ x(t_1) = \\begin{pmatrix}\n",
    "0\\\\ \n",
    "x_2(t_1)\n",
    "\\end{pmatrix}\\end{matrix}\\right.$\n",
    "\n",
    "Mais on constate également que $\\begin{pmatrix}\n",
    "0\\\\ \n",
    "x_2(t_1)e^{-\\gamma (t-t_1)}\n",
    "\\end{pmatrix}$ est solution également ! (Cela se vérifie aisément avec $f$).\n",
    "\n",
    "Or par unicité de la solution maximale, il vient que $x(t) = \\begin{pmatrix}\n",
    "0\\\\ \n",
    "x_2(t_1)e^{-\\gamma (t-t_1)}\n",
    "\\end{pmatrix}$, ce qui contredit le fait que $x(t_0)$ n'a aucune composante négative ou nulle ! On aboutit donc à une contradiction, donc $x_1$ ne peut s'annuler, et comme $x$ est une fonction continue, il vient que $x_1$ est nécessairement toujours strictement positive.\n",
    "\n",
    "Donc si $x$ est initialisé dans $\\mathbb{R}_{>0} \\times \\mathbb{R}_{>0}$, il y restera sur tout son intervalle de définition."
   ],
   "cell_type": "markdown",
   "metadata": {}
  },
  {
   "source": [
    "$\\underline{\\textbf{Question 4}} : $"
   ],
   "cell_type": "markdown",
   "metadata": {}
  },
  {
   "source": [
    "On considère la fonction : $H(x_1,x_2) = \\delta x_1 - \\gamma ln(x_1) + \\beta x_2 - \\alpha ln(x_2)$. Qui est bien définie si on initialise à $x_0 \\in \\mathbb{R}_{>0} \\times \\mathbb{R}_{>0}$ d'après ce qui précède.\n",
    "\n",
    "Calculons la dérivée temporelle de $H$ :\n",
    "\n",
    "$\\frac{dH}{dt} = \\delta \\dot{x_1} - \\gamma \\frac{\\dot{x_1}}{x_1} + \\beta \\dot{x_2} - \\alpha \\frac{\\dot{x_2}}{x_2} = 0$ D'après le système différentiel après développement.\n",
    "\n",
    "Donc $H$ est constante au cours du temps, ce qui assure que $x_1$ et $x_2$ sont bornées, donc elles n'explosent pas en temps fini, donc nécessairement la solution maximale est définie sur $\\mathbb{R}$ tout entier !\n",
    "\n",
    "Montrons maintenant la stabilité de $\\bar{x}$. Déjà, $\\lim_{\\left \\| x \\right \\|\\rightarrow +\\infty }H(x) = +\\infty$, ce qui assure que dès que $x>r$ avec $r>0$, on aura $H(x)>H(0) + 1$. Et comme $H$ est continue sur $\\mathbb{R}^2$, elle admet un minimum sur le compact $\\bar{B}(0,r)$ (boule fermée de rayon $r$ centrée en $0$), qui est donc un minimum global.\n",
    "\n",
    "Ce minimum $x_m$ vérifie nécessairement $dH(x_m) = 0$, or on a $dH = \\begin{pmatrix}\\delta - \\frac{\\gamma}{x_1} & \\beta - \\frac{\\alpha}{x_2}\\end{pmatrix}$, donc $dH(x) = 0$ implique que $x = \\bar{x}$ !\n",
    "\n",
    "$\\bar{x}$ est donc l'unique minimum, montrons maintenant qu'il est strict. On calcule, pour $(k,h) \\in \\mathbb{R}^2-\\{0\\}$ :\n",
    "\n",
    "$H(\\bar{x}_1+h,\\bar{x}_2+k) - H(\\bar{x}_1,\\bar{x}_2) = \\gamma k + \\beta h - \\gamma ln(1+\\frac{k}{\\bar{x}_1}) - \\alpha ln(1+\\frac{h}{\\bar{x}_2}) =_{(k,h)\\rightarrow0} \\gamma \\frac{k^2}{2\\bar{x}_1^2} + \\alpha \\frac{h^2}{2\\bar{x}_2^2} > 0$ !\n",
    "\n",
    "Donc $\\bar{x}$ est bien un minimum global strict pour $H$.\n",
    "\n",
    "Ainsi, on définit la fonction $V(x) = H(x) - H(\\bar{x})$ qui vérifie les propriétés suivantes :\n",
    "- $V(\\bar{x}) \\geq 0$ avec égalité si et seulement si $x=\\bar{x}$\n",
    "- Et $\\langle \\nabla V(x(t)),f(x(t))\\rangle = \\frac{dV}{dx}(x(t)) \\times \\dot{x}(t) = \\frac{dV}{dt} = 0$\n",
    "\n",
    "$V$ est donc une fonction de Lyapunov pour le point $\\bar{x}$ ! Par la caractérisation de Lyapunov, nous pouvons enfin affirmer que le point $\\bar{x}$ est stable."
   ],
   "cell_type": "markdown",
   "metadata": {}
  },
  {
   "cell_type": "code",
   "execution_count": null,
   "metadata": {},
   "outputs": [],
   "source": []
  }
 ]
}